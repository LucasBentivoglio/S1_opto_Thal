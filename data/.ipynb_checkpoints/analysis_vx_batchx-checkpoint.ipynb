{
 "cells": [
  {
   "cell_type": "code",
   "execution_count": 2,
   "metadata": {
    "tags": []
   },
   "outputs": [],
   "source": [
    "\"\"\"\n",
    "script to load sim and plot\n",
    "\"\"\"\n",
    "\n",
    "from netpyne import sim\n",
    "from matplotlib import pyplot as plt\n",
    "import os\n",
    "import pickle as pkl\n",
    "# from cfg25p import *\n",
    "# from cfg25p import histRate"
   ]
  },
  {
   "cell_type": "code",
   "execution_count": 3,
   "metadata": {
    "tags": []
   },
   "outputs": [],
   "source": [
    "filename = 'v2_batch2/v2_batch2_0_data.pkl'\n",
    "\n",
    "layer_bounds= {'1':[0.0, 0.079], '2': [0.079,0.151], '3': [0.151,0.320], '23': [0.079,0.320], '4':[0.320,0.412], '5': [0.412,0.664], '6': [0.664,1.0]}\n",
    "sim.load(filename, instantiate=True, instantiateConns = False, instantiateStims = False, instantiateRxD = False, createNEURONObj = False)\n",
    "\n",
    "sim.cfg.allpops\n",
    "sim.cfg.S1cells = sim.cfg.allpops\n",
    "timeRange2 = [500,506]\n",
    "sim.analysis.plotSpikeHist(include=[sim.cfg.S1cells[:4],sim.cfg.S1cells[4:7]], binSize=1, figSize=(18, 3.5), fontSize = 12, legend=False, showFig= False,\n",
    "                                    graphType = 'bar', measure = 'rate', linewidth=5,\n",
    "                                   timeRange=timeRange2, dpi=300, saveData=False);\n",
    "# sim.analysis.plotSpikeHist(include=[], binSize=1, figSize=(10, 3.5), fontSize = 12, legend=False, showFig= False,\n",
    "#                                     graphType = 'bar', measure = 'rate', linewidth=5,\n",
    "#                                    timeRange=timeRange2, dpi=300, saveData=False);\n",
    "import numpy as np\n",
    "\n",
    "timeRange = [500,506]\n",
    "sim.analysis.plotRaster(**{'include': sim.cfg.S1cells, 'saveFig': False, 'showFig': False, 'popRates': True,'orderInverse': True, \n",
    "                           'timeRange': timeRange, 'figSize': (12,6), 'fontSize':4, 'lw': 1, 'markerSize':1, 'marker': 'o', 'dpi': 200})\n",
    "plt.xticks(np.linspace(500,506,13))\n",
    "plt.grid(True)\n",
    "plt.show()"
   ]
  },
  {
   "cell_type": "code",
   "execution_count": 4,
   "metadata": {
    "tags": []
   },
   "outputs": [
    {
     "ename": "AttributeError",
     "evalue": "module 'netpyne.sim' has no attribute 'cfg'",
     "output_type": "error",
     "traceback": [
      "\u001b[0;31m---------------------------------------------------------------------------\u001b[0m",
      "\u001b[0;31mAttributeError\u001b[0m                            Traceback (most recent call last)",
      "Cell \u001b[0;32mIn[4], line 2\u001b[0m\n\u001b[1;32m      1\u001b[0m timeRange \u001b[38;5;241m=\u001b[39m [\u001b[38;5;241m500\u001b[39m,\u001b[38;5;241m514\u001b[39m]\n\u001b[0;32m----> 2\u001b[0m sim\u001b[38;5;241m.\u001b[39manalysis\u001b[38;5;241m.\u001b[39mplotRaster(\u001b[38;5;241m*\u001b[39m\u001b[38;5;241m*\u001b[39m{\u001b[38;5;124m'\u001b[39m\u001b[38;5;124minclude\u001b[39m\u001b[38;5;124m'\u001b[39m: \u001b[43msim\u001b[49m\u001b[38;5;241;43m.\u001b[39;49m\u001b[43mcfg\u001b[49m\u001b[38;5;241m.\u001b[39mS1cells, \u001b[38;5;124m'\u001b[39m\u001b[38;5;124msaveFig\u001b[39m\u001b[38;5;124m'\u001b[39m: \u001b[38;5;28;01mFalse\u001b[39;00m, \u001b[38;5;124m'\u001b[39m\u001b[38;5;124mshowFig\u001b[39m\u001b[38;5;124m'\u001b[39m: \u001b[38;5;28;01mFalse\u001b[39;00m, \u001b[38;5;124m'\u001b[39m\u001b[38;5;124mpopRates\u001b[39m\u001b[38;5;124m'\u001b[39m: \u001b[38;5;28;01mTrue\u001b[39;00m,\u001b[38;5;124m'\u001b[39m\u001b[38;5;124morderInverse\u001b[39m\u001b[38;5;124m'\u001b[39m: \u001b[38;5;28;01mTrue\u001b[39;00m, \n\u001b[1;32m      3\u001b[0m                            \u001b[38;5;124m'\u001b[39m\u001b[38;5;124mtimeRange\u001b[39m\u001b[38;5;124m'\u001b[39m: timeRange, \u001b[38;5;124m'\u001b[39m\u001b[38;5;124mfigSize\u001b[39m\u001b[38;5;124m'\u001b[39m: (\u001b[38;5;241m15\u001b[39m,\u001b[38;5;241m5\u001b[39m), \u001b[38;5;124m'\u001b[39m\u001b[38;5;124mfontSize\u001b[39m\u001b[38;5;124m'\u001b[39m:\u001b[38;5;241m4\u001b[39m, \u001b[38;5;124m'\u001b[39m\u001b[38;5;124mlw\u001b[39m\u001b[38;5;124m'\u001b[39m: \u001b[38;5;241m1\u001b[39m, \u001b[38;5;124m'\u001b[39m\u001b[38;5;124mmarkerSize\u001b[39m\u001b[38;5;124m'\u001b[39m:\u001b[38;5;241m1\u001b[39m, \u001b[38;5;124m'\u001b[39m\u001b[38;5;124mmarker\u001b[39m\u001b[38;5;124m'\u001b[39m: \u001b[38;5;124m'\u001b[39m\u001b[38;5;124mo\u001b[39m\u001b[38;5;124m'\u001b[39m, \u001b[38;5;124m'\u001b[39m\u001b[38;5;124mdpi\u001b[39m\u001b[38;5;124m'\u001b[39m: \u001b[38;5;241m200\u001b[39m})\n\u001b[1;32m      4\u001b[0m plt\u001b[38;5;241m.\u001b[39mxticks(np\u001b[38;5;241m.\u001b[39mlinspace(\u001b[38;5;241m500.5\u001b[39m,\u001b[38;5;241m508.5\u001b[39m,\u001b[38;5;241m17\u001b[39m))\n\u001b[1;32m      5\u001b[0m plt\u001b[38;5;241m.\u001b[39mgrid(\u001b[38;5;28;01mTrue\u001b[39;00m)\n",
      "\u001b[0;31mAttributeError\u001b[0m: module 'netpyne.sim' has no attribute 'cfg'"
     ]
    }
   ],
   "source": [
    "timeRange = [500,514]\n",
    "sim.analysis.plotRaster(**{'include': sim.cfg.S1cells, 'saveFig': False, 'showFig': False, 'popRates': True,'orderInverse': True, \n",
    "                           'timeRange': timeRange, 'figSize': (15,5), 'fontSize':4, 'lw': 1, 'markerSize':1, 'marker': 'o', 'dpi': 200})\n",
    "plt.xticks(np.linspace(500.5,508.5,17))\n",
    "plt.grid(True)\n",
    "plt.show()"
   ]
  },
  {
   "cell_type": "code",
   "execution_count": null,
   "metadata": {
    "tags": []
   },
   "outputs": [],
   "source": [
    "sim.analysis.plot2Dnet(include = sim.cfg.S1cells, showConns= False , figSize=(6, 6));\n",
    "sim.analysis.plot2Dnet(include = sim.cfg.S1cells, showConns= False, view = 'xz', figSize=(6, 6));"
   ]
  },
  {
   "cell_type": "code",
   "execution_count": null,
   "metadata": {
    "tags": []
   },
   "outputs": [],
   "source": [
    "sim.analysis.plotLFP(timeRange=[495,520], plots = ['timeSeries'], figSize=(8, 4), fontSize=8, showFig=False, saveFig=False);\n",
    "# plt.xticks(np.linspace(500,513,27))\n",
    "plt.grid(True)\n",
    "plt.show()"
   ]
  },
  {
   "cell_type": "code",
   "execution_count": 5,
   "metadata": {
    "tags": []
   },
   "outputs": [
    {
     "name": "stdout",
     "output_type": "stream",
     "text": [
      "Plotting recorded cell traces ... trace\n",
      "\n",
      "There was an exception in plotTraces()\n"
     ]
    },
    {
     "name": "stderr",
     "output_type": "stream",
     "text": [
      "Traceback (most recent call last):\n",
      "  File \"/home/fernando/miniconda3/envs/p38/lib/python3.8/site-packages/netpyne/analysis/utils.py\", line 75, in wrapper\n",
      "    return function(*args, **kwargs)\n",
      "  File \"/home/fernando/miniconda3/envs/p38/lib/python3.8/site-packages/netpyne/analysis/traces.py\", line 146, in plotTraces\n",
      "    if 'plotTraces' in sim.cfg.analysis and 'include' in sim.cfg.analysis['plotTraces']:\n",
      "AttributeError: module 'netpyne.sim' has no attribute 'cfg'\n"
     ]
    },
    {
     "ename": "NameError",
     "evalue": "name 'np' is not defined",
     "output_type": "error",
     "traceback": [
      "\u001b[0;31m---------------------------------------------------------------------------\u001b[0m",
      "\u001b[0;31mNameError\u001b[0m                                 Traceback (most recent call last)",
      "Cell \u001b[0;32mIn[5], line 2\u001b[0m\n\u001b[1;32m      1\u001b[0m sim\u001b[38;5;241m.\u001b[39manalysis\u001b[38;5;241m.\u001b[39mplotTraces(timeRange\u001b[38;5;241m=\u001b[39m[\u001b[38;5;241m490\u001b[39m,\u001b[38;5;241m513\u001b[39m], overlay\u001b[38;5;241m=\u001b[39m\u001b[38;5;28;01mTrue\u001b[39;00m, oneFigPer\u001b[38;5;241m=\u001b[39m\u001b[38;5;124m'\u001b[39m\u001b[38;5;124mtrace\u001b[39m\u001b[38;5;124m'\u001b[39m, ylim\u001b[38;5;241m=\u001b[39m[\u001b[38;5;241m-\u001b[39m\u001b[38;5;241m85\u001b[39m,\u001b[38;5;241m30\u001b[39m], subtitles\u001b[38;5;241m=\u001b[39m \u001b[38;5;28;01mFalse\u001b[39;00m, axis\u001b[38;5;241m=\u001b[39m\u001b[38;5;28;01mTrue\u001b[39;00m, scaleBarLoc\u001b[38;5;241m=\u001b[39m\u001b[38;5;241m1\u001b[39m, figSize\u001b[38;5;241m=\u001b[39m(\u001b[38;5;241m8\u001b[39m, \u001b[38;5;241m4\u001b[39m), fontSize\u001b[38;5;241m=\u001b[39m\u001b[38;5;241m8\u001b[39m, showFig\u001b[38;5;241m=\u001b[39m\u001b[38;5;28;01mFalse\u001b[39;00m, saveFig\u001b[38;5;241m=\u001b[39m\u001b[38;5;28;01mFalse\u001b[39;00m);\n\u001b[0;32m----> 2\u001b[0m plt\u001b[38;5;241m.\u001b[39mxticks(\u001b[43mnp\u001b[49m\u001b[38;5;241m.\u001b[39mlinspace(\u001b[38;5;241m500\u001b[39m,\u001b[38;5;241m513\u001b[39m,\u001b[38;5;241m27\u001b[39m))\n\u001b[1;32m      3\u001b[0m plt\u001b[38;5;241m.\u001b[39mgrid(\u001b[38;5;28;01mTrue\u001b[39;00m)\n\u001b[1;32m      4\u001b[0m plt\u001b[38;5;241m.\u001b[39mshow()\n",
      "\u001b[0;31mNameError\u001b[0m: name 'np' is not defined"
     ]
    }
   ],
   "source": [
    "sim.analysis.plotTraces(timeRange=[490,513], overlay=True, oneFigPer='trace', ylim=[-85,30], subtitles= False, axis=True, scaleBarLoc=1, figSize=(8, 4), fontSize=8, showFig=False, saveFig=False);\n",
    "plt.xticks(np.linspace(500,513,27))\n",
    "plt.grid(True)\n",
    "plt.show()\n"
   ]
  },
  {
   "cell_type": "code",
   "execution_count": 6,
   "metadata": {
    "tags": []
   },
   "outputs": [
    {
     "ename": "AttributeError",
     "evalue": "module 'netpyne.sim' has no attribute 'cfg'",
     "output_type": "error",
     "traceback": [
      "\u001b[0;31m---------------------------------------------------------------------------\u001b[0m",
      "\u001b[0;31mAttributeError\u001b[0m                            Traceback (most recent call last)",
      "Cell \u001b[0;32mIn[6], line 3\u001b[0m\n\u001b[1;32m      1\u001b[0m timeRange \u001b[38;5;241m=\u001b[39m [\u001b[38;5;241m500\u001b[39m,\u001b[38;5;241m520\u001b[39m]\n\u001b[1;32m      2\u001b[0m \u001b[38;5;66;03m# 'presyn_VPL_sTC', 'presyn_VPM_sTC', 'presyn_POm_sTC_s1'\u001b[39;00m\n\u001b[0;32m----> 3\u001b[0m sim\u001b[38;5;241m.\u001b[39manalysis\u001b[38;5;241m.\u001b[39mplotRaster(\u001b[38;5;241m*\u001b[39m\u001b[38;5;241m*\u001b[39m{\u001b[38;5;124m'\u001b[39m\u001b[38;5;124minclude\u001b[39m\u001b[38;5;124m'\u001b[39m: \u001b[43msim\u001b[49m\u001b[38;5;241;43m.\u001b[39;49m\u001b[43mcfg\u001b[49m\u001b[38;5;241m.\u001b[39mS1cells, \u001b[38;5;124m'\u001b[39m\u001b[38;5;124msaveFig\u001b[39m\u001b[38;5;124m'\u001b[39m: \u001b[38;5;28;01mFalse\u001b[39;00m, \u001b[38;5;124m'\u001b[39m\u001b[38;5;124mshowFig\u001b[39m\u001b[38;5;124m'\u001b[39m: \u001b[38;5;28;01mFalse\u001b[39;00m, \u001b[38;5;124m'\u001b[39m\u001b[38;5;124mpopRates\u001b[39m\u001b[38;5;124m'\u001b[39m: \u001b[38;5;28;01mTrue\u001b[39;00m,\u001b[38;5;124m'\u001b[39m\u001b[38;5;124morderInverse\u001b[39m\u001b[38;5;124m'\u001b[39m: \u001b[38;5;28;01mTrue\u001b[39;00m, \n\u001b[1;32m      4\u001b[0m                            \u001b[38;5;124m'\u001b[39m\u001b[38;5;124mtimeRange\u001b[39m\u001b[38;5;124m'\u001b[39m: [\u001b[38;5;241m0\u001b[39m,\u001b[38;5;241m520\u001b[39m], \u001b[38;5;124m'\u001b[39m\u001b[38;5;124mfigSize\u001b[39m\u001b[38;5;124m'\u001b[39m: (\u001b[38;5;241m8\u001b[39m,\u001b[38;5;241m4\u001b[39m), \u001b[38;5;124m'\u001b[39m\u001b[38;5;124mfontSize\u001b[39m\u001b[38;5;124m'\u001b[39m:\u001b[38;5;241m4\u001b[39m, \u001b[38;5;124m'\u001b[39m\u001b[38;5;124mlw\u001b[39m\u001b[38;5;124m'\u001b[39m: \u001b[38;5;241m1\u001b[39m, \u001b[38;5;124m'\u001b[39m\u001b[38;5;124mmarkerSize\u001b[39m\u001b[38;5;124m'\u001b[39m:\u001b[38;5;241m1\u001b[39m, \u001b[38;5;124m'\u001b[39m\u001b[38;5;124mmarker\u001b[39m\u001b[38;5;124m'\u001b[39m: \u001b[38;5;124m'\u001b[39m\u001b[38;5;124mo\u001b[39m\u001b[38;5;124m'\u001b[39m, \u001b[38;5;124m'\u001b[39m\u001b[38;5;124mdpi\u001b[39m\u001b[38;5;124m'\u001b[39m: \u001b[38;5;241m200\u001b[39m})\n",
      "\u001b[0;31mAttributeError\u001b[0m: module 'netpyne.sim' has no attribute 'cfg'"
     ]
    }
   ],
   "source": [
    "timeRange = [500,520]\n",
    "# 'presyn_VPL_sTC', 'presyn_VPM_sTC', 'presyn_POm_sTC_s1'\n",
    "sim.analysis.plotRaster(**{'include': sim.cfg.S1cells, 'saveFig': False, 'showFig': False, 'popRates': True,'orderInverse': True, \n",
    "                           'timeRange': [0,520], 'figSize': (8,4), 'fontSize':4, 'lw': 1, 'markerSize':1, 'marker': 'o', 'dpi': 200})"
   ]
  },
  {
   "cell_type": "code",
   "execution_count": 7,
   "metadata": {
    "tags": []
   },
   "outputs": [],
   "source": [
    "# sim.analysis.plotRaster(**{'saveFig': False, 'showFig': False, 'popRates': True, # 'orderBy': 'y',\n",
    "#                             'orderInverse': True, 'figSize': (6.5,8), 'fontSize':12, 'lw': 2, 'markerSize':4, 'marker': 'o', 'dpi': 200})"
   ]
  },
  {
   "cell_type": "code",
   "execution_count": 8,
   "metadata": {
    "tags": []
   },
   "outputs": [
    {
     "ename": "AttributeError",
     "evalue": "module 'netpyne.sim' has no attribute 'cfg'",
     "output_type": "error",
     "traceback": [
      "\u001b[0;31m---------------------------------------------------------------------------\u001b[0m",
      "\u001b[0;31mAttributeError\u001b[0m                            Traceback (most recent call last)",
      "Cell \u001b[0;32mIn[8], line 12\u001b[0m\n\u001b[1;32m      1\u001b[0m timeRange \u001b[38;5;241m=\u001b[39m [\u001b[38;5;241m500\u001b[39m,\u001b[38;5;241m520\u001b[39m]\n\u001b[1;32m      3\u001b[0m \u001b[38;5;66;03m# timeRange = [500,520]\u001b[39;00m\n\u001b[1;32m      4\u001b[0m \u001b[38;5;66;03m# cellrec = []\u001b[39;00m\n\u001b[1;32m      5\u001b[0m \u001b[38;5;66;03m# for pop in sim.cfg.S1cells[:3]:\u001b[39;00m\n\u001b[0;32m   (...)\u001b[0m\n\u001b[1;32m      9\u001b[0m     \n\u001b[1;32m     10\u001b[0m \u001b[38;5;66;03m# sim.analysis.plotTraces(include = cellrec, timeRange=timeRange, overlay=True, oneFigPer='trace', ylim=[-80,60], subtitles= False, axis=False, scaleBarLoc=1, figSize=(12, 3), fontSize=1, saveFig=False);\u001b[39;00m\n\u001b[0;32m---> 12\u001b[0m \u001b[38;5;28;01mfor\u001b[39;00m pop \u001b[38;5;129;01min\u001b[39;00m \u001b[43msim\u001b[49m\u001b[38;5;241;43m.\u001b[39;49m\u001b[43mcfg\u001b[49m\u001b[38;5;241m.\u001b[39mS1cells[\u001b[38;5;241m-\u001b[39m\u001b[38;5;241m6\u001b[39m:]:\n\u001b[1;32m     13\u001b[0m     cellrec \u001b[38;5;241m=\u001b[39m []\n\u001b[1;32m     14\u001b[0m     \u001b[38;5;28;01mfor\u001b[39;00m rec \u001b[38;5;129;01min\u001b[39;00m sim\u001b[38;5;241m.\u001b[39mcfg\u001b[38;5;241m.\u001b[39mrecordCells: \n",
      "\u001b[0;31mAttributeError\u001b[0m: module 'netpyne.sim' has no attribute 'cfg'"
     ]
    }
   ],
   "source": [
    "timeRange = [500,520]\n",
    "\n",
    "# timeRange = [500,520]\n",
    "# cellrec = []\n",
    "# for pop in sim.cfg.S1cells[:3]:\n",
    "#     for rec in sim.cfg.recordCells: \n",
    "#         if pop in rec[0]:\n",
    "#             cellrec.append(rec)\n",
    "    \n",
    "# sim.analysis.plotTraces(include = cellrec, timeRange=timeRange, overlay=True, oneFigPer='trace', ylim=[-80,60], subtitles= False, axis=False, scaleBarLoc=1, figSize=(12, 3), fontSize=1, saveFig=False);\n",
    "\n",
    "for pop in sim.cfg.S1cells[-6:]:\n",
    "    cellrec = []\n",
    "    for rec in sim.cfg.recordCells: \n",
    "        if pop in rec[0]:\n",
    "            cellrec.append(rec)\n",
    "    \n",
    "    sim.analysis.plotTraces(include = cellrec, timeRange=timeRange, overlay=False, oneFigPer='trace', ylim=[-80,60], subtitles= False, axis=False, scaleBarLoc=1, figSize=(4, 6), fontSize=12, saveFig=False);"
   ]
  },
  {
   "cell_type": "code",
   "execution_count": 9,
   "metadata": {
    "tags": []
   },
   "outputs": [
    {
     "ename": "AttributeError",
     "evalue": "module 'netpyne.sim' has no attribute 'cfg'",
     "output_type": "error",
     "traceback": [
      "\u001b[0;31m---------------------------------------------------------------------------\u001b[0m",
      "\u001b[0;31mAttributeError\u001b[0m                            Traceback (most recent call last)",
      "Cell \u001b[0;32mIn[9], line 3\u001b[0m\n\u001b[1;32m      1\u001b[0m timeRange \u001b[38;5;241m=\u001b[39m [\u001b[38;5;241m500\u001b[39m,\u001b[38;5;241m520\u001b[39m]\n\u001b[1;32m      2\u001b[0m \u001b[38;5;66;03m# 'presyn_VPL_sTC', 'presyn_VPM_sTC', 'presyn_POm_sTC_s1'\u001b[39;00m\n\u001b[0;32m----> 3\u001b[0m sim\u001b[38;5;241m.\u001b[39manalysis\u001b[38;5;241m.\u001b[39mplotRaster(\u001b[38;5;241m*\u001b[39m\u001b[38;5;241m*\u001b[39m{\u001b[38;5;124m'\u001b[39m\u001b[38;5;124minclude\u001b[39m\u001b[38;5;124m'\u001b[39m: [\u001b[43msim\u001b[49m\u001b[38;5;241;43m.\u001b[39;49m\u001b[43mcfg\u001b[49m\u001b[38;5;241m.\u001b[39mS1cells[\u001b[38;5;241m-\u001b[39m\u001b[38;5;241m6\u001b[39m:\u001b[38;5;241m-\u001b[39m\u001b[38;5;241m4\u001b[39m],sim\u001b[38;5;241m.\u001b[39mcfg\u001b[38;5;241m.\u001b[39mS1cells[\u001b[38;5;241m-\u001b[39m\u001b[38;5;241m3\u001b[39m:],\u001b[38;5;124m'\u001b[39m\u001b[38;5;124mVPL_sTC\u001b[39m\u001b[38;5;124m'\u001b[39m, \u001b[38;5;124m'\u001b[39m\u001b[38;5;124mVPM_sTC\u001b[39m\u001b[38;5;124m'\u001b[39m, \u001b[38;5;124m'\u001b[39m\u001b[38;5;124mPOm_sTC_s1\u001b[39m\u001b[38;5;124m'\u001b[39m], \u001b[38;5;124m'\u001b[39m\u001b[38;5;124msaveFig\u001b[39m\u001b[38;5;124m'\u001b[39m: \u001b[38;5;28;01mFalse\u001b[39;00m, \u001b[38;5;124m'\u001b[39m\u001b[38;5;124mshowFig\u001b[39m\u001b[38;5;124m'\u001b[39m: \u001b[38;5;28;01mFalse\u001b[39;00m, \u001b[38;5;124m'\u001b[39m\u001b[38;5;124mpopRates\u001b[39m\u001b[38;5;124m'\u001b[39m: \u001b[38;5;28;01mTrue\u001b[39;00m,\u001b[38;5;124m'\u001b[39m\u001b[38;5;124morderInverse\u001b[39m\u001b[38;5;124m'\u001b[39m: \u001b[38;5;28;01mTrue\u001b[39;00m, \n\u001b[1;32m      4\u001b[0m                            \u001b[38;5;124m'\u001b[39m\u001b[38;5;124mtimeRange\u001b[39m\u001b[38;5;124m'\u001b[39m: [\u001b[38;5;241m500\u001b[39m,\u001b[38;5;241m520\u001b[39m], \u001b[38;5;124m'\u001b[39m\u001b[38;5;124mfigSize\u001b[39m\u001b[38;5;124m'\u001b[39m: (\u001b[38;5;241m8\u001b[39m,\u001b[38;5;241m6\u001b[39m), \u001b[38;5;124m'\u001b[39m\u001b[38;5;124mfontSize\u001b[39m\u001b[38;5;124m'\u001b[39m:\u001b[38;5;241m4\u001b[39m, \u001b[38;5;124m'\u001b[39m\u001b[38;5;124mlw\u001b[39m\u001b[38;5;124m'\u001b[39m: \u001b[38;5;241m1\u001b[39m, \u001b[38;5;124m'\u001b[39m\u001b[38;5;124mmarkerSize\u001b[39m\u001b[38;5;124m'\u001b[39m:\u001b[38;5;241m1\u001b[39m, \u001b[38;5;124m'\u001b[39m\u001b[38;5;124mmarker\u001b[39m\u001b[38;5;124m'\u001b[39m: \u001b[38;5;124m'\u001b[39m\u001b[38;5;124mo\u001b[39m\u001b[38;5;124m'\u001b[39m, \u001b[38;5;124m'\u001b[39m\u001b[38;5;124mdpi\u001b[39m\u001b[38;5;124m'\u001b[39m: \u001b[38;5;241m200\u001b[39m})\n",
      "\u001b[0;31mAttributeError\u001b[0m: module 'netpyne.sim' has no attribute 'cfg'"
     ]
    }
   ],
   "source": [
    "timeRange = [500,520]\n",
    "# 'presyn_VPL_sTC', 'presyn_VPM_sTC', 'presyn_POm_sTC_s1'\n",
    "sim.analysis.plotRaster(**{'include': [sim.cfg.S1cells[-6:-4],sim.cfg.S1cells[-3:],'VPL_sTC', 'VPM_sTC', 'POm_sTC_s1'], 'saveFig': False, 'showFig': False, 'popRates': True,'orderInverse': True, \n",
    "                           'timeRange': [500,520], 'figSize': (8,6), 'fontSize':4, 'lw': 1, 'markerSize':1, 'marker': 'o', 'dpi': 200})"
   ]
  },
  {
   "cell_type": "code",
   "execution_count": null,
   "metadata": {},
   "outputs": [],
   "source": []
  },
  {
   "cell_type": "code",
   "execution_count": null,
   "metadata": {},
   "outputs": [],
   "source": []
  }
 ],
 "metadata": {
  "kernelspec": {
   "display_name": "Python 3 (ipykernel)",
   "language": "python",
   "name": "python3"
  },
  "language_info": {
   "codemirror_mode": {
    "name": "ipython",
    "version": 3
   },
   "file_extension": ".py",
   "mimetype": "text/x-python",
   "name": "python",
   "nbconvert_exporter": "python",
   "pygments_lexer": "ipython3",
   "version": "3.8.18"
  }
 },
 "nbformat": 4,
 "nbformat_minor": 4
}
